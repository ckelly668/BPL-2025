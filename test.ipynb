{
 "cells": [
  {
   "cell_type": "code",
   "execution_count": 13,
   "id": "a196bb7e",
   "metadata": {},
   "outputs": [
    {
     "ename": "ModuleNotFoundError",
     "evalue": "No module named 'numpy'",
     "output_type": "error",
     "traceback": [
      "\u001b[1;31m---------------------------------------------------------------------------\u001b[0m",
      "\u001b[1;31mModuleNotFoundError\u001b[0m                       Traceback (most recent call last)",
      "Cell \u001b[1;32mIn[13], line 1\u001b[0m\n\u001b[1;32m----> 1\u001b[0m \u001b[38;5;28;01mimport\u001b[39;00m\u001b[38;5;250m \u001b[39m\u001b[38;5;21;01mnumpy\u001b[39;00m\u001b[38;5;250m \u001b[39m\u001b[38;5;28;01mas\u001b[39;00m\u001b[38;5;250m \u001b[39m\u001b[38;5;21;01mnp\u001b[39;00m\n\u001b[0;32m      2\u001b[0m teams \u001b[38;5;241m=\u001b[39m [\u001b[38;5;124m'\u001b[39m\u001b[38;5;124mSets in the City\u001b[39m\u001b[38;5;124m'\u001b[39m, \u001b[38;5;124m'\u001b[39m\u001b[38;5;124mThe Receptionists\u001b[39m\u001b[38;5;124m'\u001b[39m, \u001b[38;5;124m\"\u001b[39m\u001b[38;5;124mThat\u001b[39m\u001b[38;5;124m'\u001b[39m\u001b[38;5;124ms A Paddlin\u001b[39m\u001b[38;5;124m'\u001b[39m\u001b[38;5;124m\"\u001b[39m, \u001b[38;5;124m'\u001b[39m\u001b[38;5;124mRose and Crown Padel Club\u001b[39m\u001b[38;5;124m'\u001b[39m, \u001b[38;5;124m'\u001b[39m\u001b[38;5;124mPlayer? I hardly know her\u001b[39m\u001b[38;5;124m'\u001b[39m, \u001b[38;5;124m'\u001b[39m\u001b[38;5;124mSlim Reapers\u001b[39m\u001b[38;5;124m'\u001b[39m, \u001b[38;5;124m\"\u001b[39m\u001b[38;5;124mCheaper by the Cousin\u001b[39m\u001b[38;5;124m'\u001b[39m\u001b[38;5;124m\"\u001b[39m, \u001b[38;5;124m'\u001b[39m\u001b[38;5;124mArmaghgeddon\u001b[39m\u001b[38;5;124m'\u001b[39m]\n\u001b[0;32m      4\u001b[0m data \u001b[38;5;241m=\u001b[39m np\u001b[38;5;241m.\u001b[39mzeros((\u001b[38;5;28mlen\u001b[39m(teams), \u001b[38;5;28mlen\u001b[39m(teams)), dtype\u001b[38;5;241m=\u001b[39m\u001b[38;5;28mint\u001b[39m)\n",
      "\u001b[1;31mModuleNotFoundError\u001b[0m: No module named 'numpy'"
     ]
    }
   ],
   "source": [
    "import numpy as np\n",
    "teams = ['Sets in the City', 'The Receptionists', \"That's A Paddlin'\", 'Rose and Crown Padel Club', 'Player? I hardly know her', 'Slim Reapers', \"Cheaper by the Cousin'\", 'Armaghgeddon']\n",
    "\n",
    "data = np.zeros((len(teams), len(teams)), dtype=int)\n",
    "results_matrix = pd.DataFrame(data, index=teams, columns=teams)\n",
    "print(results_matrix)"
   ]
  },
  {
   "cell_type": "code",
   "execution_count": 3,
   "id": "32bb6cae",
   "metadata": {},
   "outputs": [
    {
     "name": "stdout",
     "output_type": "stream",
     "text": [
      "[Clash<Competitor<B Comp, 1 Team, 1500>, None>,\n",
      " Clash<Competitor<D Comp, 2 Team, 2020>, Competitor<C Comp, 1 Team, 1000>>,\n",
      " Clash<Competitor<A Comp, 1 Team, 2000>, Competitor<F Comp, 3 Team, 1930>>,\n",
      " Clash<Competitor<G Comp, 4 Team, 2040>, Competitor<E Comp, 2 Team, 1520>>]\n"
     ]
    }
   ],
   "source": [
    "from bracketool.single_elimination import SingleEliminationGen\n",
    "from bracketool.domain import *\n",
    "\n",
    "se = SingleEliminationGen(\n",
    "        use_three_way_final=False,\n",
    "        third_place_clash=True,\n",
    "        use_rating=True,\n",
    "        use_teams=True,\n",
    "        random_seed=42)\n",
    "\n",
    "clist = [\n",
    "    Competitor(\"A Comp\", \"1 Team\", 2000),\n",
    "    Competitor(\"B Comp\", \"1 Team\", 1500),\n",
    "    Competitor(\"C Comp\", \"1 Team\", 1000),\n",
    "    Competitor(\"D Comp\", \"2 Team\", 2020),\n",
    "    Competitor(\"E Comp\", \"2 Team\", 1520),\n",
    "    Competitor(\"F Comp\", \"3 Team\", 1930),\n",
    "    Competitor(\"G Comp\", \"4 Team\", 2040),\n",
    "]\n",
    "\n",
    "output = se.generate(clist)\n",
    "\n",
    "from pprint import pprint\n",
    "pprint(output.rounds[0])"
   ]
  },
  {
   "cell_type": "code",
   "execution_count": 6,
   "id": "4a864b0c",
   "metadata": {},
   "outputs": [
    {
     "ename": "TypeError",
     "evalue": "ClashGenerator.round() missing 1 required positional argument: 'num_round'",
     "output_type": "error",
     "traceback": [
      "\u001b[31m---------------------------------------------------------------------------\u001b[39m",
      "\u001b[31mTypeError\u001b[39m                                 Traceback (most recent call last)",
      "\u001b[36mCell\u001b[39m\u001b[36m \u001b[39m\u001b[32mIn[6]\u001b[39m\u001b[32m, line 28\u001b[39m\n\u001b[32m     24\u001b[39m bracket = SingleEliminationGen(participants)\n\u001b[32m     26\u001b[39m \u001b[38;5;66;03m# The bracket object can now be used to visualize or analyze the tournament structure\u001b[39;00m\n\u001b[32m     27\u001b[39m \u001b[38;5;66;03m# For example, you could print the rounds\u001b[39;00m\n\u001b[32m---> \u001b[39m\u001b[32m28\u001b[39m \u001b[38;5;28;01mfor\u001b[39;00m round_num, round_matches \u001b[38;5;129;01min\u001b[39;00m \u001b[38;5;28menumerate\u001b[39m(bracket.round()):\n\u001b[32m     29\u001b[39m     \u001b[38;5;28mprint\u001b[39m(\u001b[33mf\u001b[39m\u001b[33m\"\u001b[39m\u001b[33mRound \u001b[39m\u001b[38;5;132;01m{\u001b[39;00mround_num\u001b[38;5;250m \u001b[39m+\u001b[38;5;250m \u001b[39m\u001b[32m1\u001b[39m\u001b[38;5;132;01m}\u001b[39;00m\u001b[33m:\u001b[39m\u001b[33m\"\u001b[39m)\n\u001b[32m     30\u001b[39m     \u001b[38;5;28;01mfor\u001b[39;00m match \u001b[38;5;129;01min\u001b[39;00m round_matches:\n",
      "\u001b[31mTypeError\u001b[39m: ClashGenerator.round() missing 1 required positional argument: 'num_round'"
     ]
    }
   ],
   "source": [
    "from bracketool.single_elimination import SingleEliminationGen\n",
    "\n",
    "# Example data for 16 teams\n",
    "participants = [\n",
    "    {\"name\": \"Team A\", \"team\": \"A\", \"ranking\": 1},\n",
    "    {\"name\": \"Team B\", \"team\": \"B\", \"ranking\": 2},\n",
    "    {\"name\": \"Team C\", \"team\": \"C\", \"ranking\": 3},\n",
    "    {\"name\": \"Team D\", \"team\": \"D\", \"ranking\": 4},\n",
    "    {\"name\": \"Team E\", \"team\": \"E\", \"ranking\": 5},\n",
    "    {\"name\": \"Team F\", \"team\": \"F\", \"ranking\": 6},\n",
    "    {\"name\": \"Team G\", \"team\": \"G\", \"ranking\": 7},\n",
    "    {\"name\": \"Team H\", \"team\": \"H\", \"ranking\": 8},\n",
    "    {\"name\": \"Team I\", \"team\": \"I\", \"ranking\": 9},\n",
    "    {\"name\": \"Team J\", \"team\": \"J\", \"ranking\": 10},\n",
    "    {\"name\": \"Team K\", \"team\": \"K\", \"ranking\": 11},\n",
    "    {\"name\": \"Team L\", \"team\": \"L\", \"ranking\": 12},\n",
    "    {\"name\": \"Team M\", \"team\": \"M\", \"ranking\": 13},\n",
    "    {\"name\": \"Team N\", \"team\": \"N\", \"ranking\": 14},\n",
    "    {\"name\": \"Team O\", \"team\": \"O\", \"ranking\": 15},\n",
    "    {\"name\": \"Team P\", \"team\": \"P\", \"ranking\": 16},\n",
    "]\n",
    "\n",
    "# Generate the bracket\n",
    "bracket = SingleEliminationGen(participants)\n",
    "\n",
    "# The bracket object can now be used to visualize or analyze the tournament structure\n",
    "# For example, you could print the rounds\n",
    "for round_num, round_matches in enumerate(bracket.round()):\n",
    "    print(f\"Round {round_num + 1}:\")\n",
    "    for match in round_matches:\n",
    "        print(f\"  {match}\")\n",
    "\n",
    "# This example uses the library to generate a single-elimination bracket,\n",
    "# taking into account participant names, teams, and their rankings [4].\n"
   ]
  }
 ],
 "metadata": {
  "kernelspec": {
   "display_name": "Python 3",
   "language": "python",
   "name": "python3"
  },
  "language_info": {
   "codemirror_mode": {
    "name": "ipython",
    "version": 3
   },
   "file_extension": ".py",
   "mimetype": "text/x-python",
   "name": "python",
   "nbconvert_exporter": "python",
   "pygments_lexer": "ipython3",
   "version": "3.13.5"
  }
 },
 "nbformat": 4,
 "nbformat_minor": 5
}
